{
  "nbformat": 4,
  "nbformat_minor": 0,
  "metadata": {
    "colab": {
      "name": "Handling Complex Images CNN .ipynb",
      "provenance": []
    },
    "kernelspec": {
      "name": "python3",
      "display_name": "Python 3"
    }
  },
  "cells": [
    {
      "cell_type": "markdown",
      "metadata": {
        "id": "WXjHU1HIH3xm",
        "colab_type": "text"
      },
      "source": [
        "# Handling Complex Images Convolutional Neural Network"
      ]
    },
    {
      "cell_type": "code",
      "metadata": {
        "id": "VtfO7cOnH-xv",
        "colab_type": "code",
        "colab": {}
      },
      "source": [
        "import tensorflow as tf\n",
        "import os\n",
        "import zipfile\n",
        "import urllib\n",
        "urllib.request.urlretrieve(\"https://storage.googleapis.com/laurencemoroney-blog.appspot.com/happy-or-sad.zip\",\n",
        "                           filename=\"/tmp/happy-or-sad.zip\")\n",
        "\n",
        "zip_ref = zipfile.ZipFile(\"/tmp/happy-or-sad.zip\", 'r')\n",
        "zip_ref.extractall(\"/tmp/h-or-s\")\n",
        "zip_ref.close()"
      ],
      "execution_count": 4,
      "outputs": []
    },
    {
      "cell_type": "code",
      "metadata": {
        "id": "fFd48CCHIdDr",
        "colab_type": "code",
        "colab": {}
      },
      "source": [
        "def train_happy_sad_model():\n",
        "  Desired_acc = 0.999\n",
        "  class myCallback(tf.keras.callbacks.Callback):\n",
        "      def on_epoch_end(self,epoch,logs={}):\n",
        "        if (logs.get('acc')>Desired_acc):\n",
        "          print('\\n Reached 99.9% accuracy so cancelling training')\n",
        "          self.model.stop_training = True\n",
        "  callbacks = myCallback()\n",
        "  model = tf.keras.models.Sequential([\n",
        "                                      tf.keras.layers.Conv2D(16,(3,3),activation='relu',input_shape=(150,150,3)),\n",
        "                                      tf.keras.layers.MaxPooling2D(2,2),\n",
        "                                      tf.keras.layers.Conv2D(32,(3,3),activation='relu'),\n",
        "                                      tf.keras.layers.MaxPooling2D(2,2),\n",
        "                                      tf.keras.layers.Conv2D(64,(3,3),activation='relu'),\n",
        "                                      tf.keras.layers.MaxPooling2D(2,2),\n",
        "                                      tf.keras.layers.Flatten(),\n",
        "                                      tf.keras.layers.Dense(512,activation='relu'),\n",
        "                                      tf.keras.layers.Dense(1,activation='sigmoid')\n",
        "\n",
        "                  \n",
        "  ])\n",
        "  model.summary()\n",
        "  from tensorflow.keras.optimizers import RMSprop\n",
        "  model.compile(loss='binary_crossentropy',\n",
        "                optimizer = RMSprop(lr=0.001),\n",
        "                metrics=['acc'])\n",
        "  from tensorflow.keras.preprocessing.image import ImageDataGenerator\n",
        "  train_datagen = ImageDataGenerator(rescale=1/255)\n",
        "  train_generator = train_datagen.flow_from_directory(\n",
        "      '/tmp/h-or-s/',  # This is the source directory for training images\n",
        "      target_size=(150,150),\n",
        "      batch_size = 10,\n",
        "      class_mode = 'binary'\n",
        "  )\n",
        "  history = model.fit_generator(\n",
        "      train_generator,\n",
        "      steps_per_epoch = 8,\n",
        "      epochs = 10,\n",
        "      verbose =1,\n",
        "      callbacks=[callbacks]\n",
        "  )\n",
        "  return history.history['acc'][-1]"
      ],
      "execution_count": 17,
      "outputs": []
    },
    {
      "cell_type": "code",
      "metadata": {
        "id": "oq8jiU0AYu_S",
        "colab_type": "code",
        "colab": {
          "base_uri": "https://localhost:8080/",
          "height": 716
        },
        "outputId": "6b3f69da-10a6-4491-a467-5c0ff723cebf"
      },
      "source": [
        "train_happy_sad_model()"
      ],
      "execution_count": 18,
      "outputs": [
        {
          "output_type": "stream",
          "text": [
            "Model: \"sequential_4\"\n",
            "_________________________________________________________________\n",
            "Layer (type)                 Output Shape              Param #   \n",
            "=================================================================\n",
            "conv2d_14 (Conv2D)           (None, 148, 148, 16)      448       \n",
            "_________________________________________________________________\n",
            "max_pooling2d_14 (MaxPooling (None, 74, 74, 16)        0         \n",
            "_________________________________________________________________\n",
            "conv2d_15 (Conv2D)           (None, 72, 72, 32)        4640      \n",
            "_________________________________________________________________\n",
            "max_pooling2d_15 (MaxPooling (None, 36, 36, 32)        0         \n",
            "_________________________________________________________________\n",
            "conv2d_16 (Conv2D)           (None, 34, 34, 64)        18496     \n",
            "_________________________________________________________________\n",
            "max_pooling2d_16 (MaxPooling (None, 17, 17, 64)        0         \n",
            "_________________________________________________________________\n",
            "flatten_4 (Flatten)          (None, 18496)             0         \n",
            "_________________________________________________________________\n",
            "dense_8 (Dense)              (None, 512)               9470464   \n",
            "_________________________________________________________________\n",
            "dense_9 (Dense)              (None, 1)                 513       \n",
            "=================================================================\n",
            "Total params: 9,494,561\n",
            "Trainable params: 9,494,561\n",
            "Non-trainable params: 0\n",
            "_________________________________________________________________\n",
            "Found 80 images belonging to 2 classes.\n",
            "Epoch 1/10\n",
            "8/8 [==============================] - 2s 233ms/step - loss: 1.2512 - acc: 0.5250\n",
            "Epoch 2/10\n",
            "8/8 [==============================] - 2s 235ms/step - loss: 0.6021 - acc: 0.7125\n",
            "Epoch 3/10\n",
            "8/8 [==============================] - 2s 235ms/step - loss: 0.2989 - acc: 0.8500\n",
            "Epoch 4/10\n",
            "8/8 [==============================] - 2s 236ms/step - loss: 0.1470 - acc: 0.9500\n",
            "Epoch 5/10\n",
            "8/8 [==============================] - 2s 234ms/step - loss: 0.1783 - acc: 0.9250\n",
            "Epoch 6/10\n",
            "8/8 [==============================] - ETA: 0s - loss: 0.0580 - acc: 1.0000\n",
            " Reached 99.9% accuracy so cancelling training\n",
            "8/8 [==============================] - 2s 232ms/step - loss: 0.0580 - acc: 1.0000\n"
          ],
          "name": "stdout"
        },
        {
          "output_type": "execute_result",
          "data": {
            "text/plain": [
              "1.0"
            ]
          },
          "metadata": {
            "tags": []
          },
          "execution_count": 18
        }
      ]
    },
    {
      "cell_type": "markdown",
      "metadata": {
        "id": "_ohbxtfobSOu",
        "colab_type": "text"
      },
      "source": [
        "##  The reported accuracy is 100% on the training data..."
      ]
    }
  ]
}